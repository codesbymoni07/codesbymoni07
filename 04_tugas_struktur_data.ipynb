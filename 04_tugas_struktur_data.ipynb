{
  "cells": [
    {
      "cell_type": "markdown",
      "metadata": {
        "id": "view-in-github",
        "colab_type": "text"
      },
      "source": [
        "<a href=\"https://colab.research.google.com/github/codesbymoni07/codesbymoni07/blob/main/04_tugas_struktur_data.ipynb\" target=\"_parent\"><img src=\"https://colab.research.google.com/assets/colab-badge.svg\" alt=\"Open In Colab\"/></a>"
      ]
    },
    {
      "cell_type": "markdown",
      "metadata": {
        "id": "ygSdAYmG2ITQ"
      },
      "source": [
        "## Biodata Diri\n",
        "\n",
        "* **Nama Lengkap:**\n",
        "* **ID Telegram:**\n",
        "* **Email:**"
      ]
    },
    {
      "cell_type": "markdown",
      "metadata": {
        "id": "zCG2iRkx2ITX"
      },
      "source": [
        "## Soal 1\n",
        "**Mengolah Data dengan List dan Tuple**\n",
        "Seorang guru memiliki daftar nilai siswa dalam bentuk list, seperti berikut:  \n",
        "`nilai_siswa = [85, 90, 78, 92, 88, 76, 95, 89, 77, 84]`\n",
        "\n",
        "#### **Tugas:**\n",
        "1. **List:**\n",
        "   - Hitung rata-rata nilai siswa.\n",
        "   - Tentukan nilai tertinggi dan nilai terendah.\n",
        "   - Urutkan nilai siswa dari yang terendah ke tertinggi.\n",
        "\n",
        "2. **Tuple:**\n",
        "   - Ubah list yang telah dibuat menjadi tuple.\n",
        "   - Jelaskan mengapa tuple cocok untuk digunakan jika data tidak akan diubah.\n",
        "\n",
        "#### **Output yang Diharapkan:**\n",
        "```python\n",
        "1. List:\n",
        "   Rata-rata nilai: 85.4\n",
        "   Nilai tertinggi: 95\n",
        "   Nilai terendah: 76\n",
        "   Daftar nilai terurut: [76, 77, 78, 84, 85, 88, 89, 90, 92, 95]\n",
        "\n",
        "2. Tuple:\n",
        "   Tuple nilai siswa: (85, 90, 78, 92, 88, 76, 95, 89, 77, 84)\n",
        "   Nested list dan tuple: [[85, 90, 78, 92, 88, 76, 95, 89, 77, 84], (85, 90, 78, 92, 88, 76, 95, 89, 77, 84)]\n",
        "```\n",
        "\n",
        "---"
      ]
    },
    {
      "cell_type": "code",
      "execution_count": null,
      "metadata": {
        "vscode": {
          "languageId": "plaintext"
        },
        "id": "ZIL3ft7v2ITc"
      },
      "outputs": [],
      "source": [
        "## JAWABAN NO 1"
      ]
    },
    {
      "cell_type": "markdown",
      "metadata": {
        "id": "PddAz4c92ITj"
      },
      "source": [
        "## Soal 2\n",
        "**Mengelola Data dengan Dictionary**\n",
        "\n",
        "Anda memiliki data inventaris barang di sebuah gudang dalam bentuk dictionary sebagai berikut:  \n",
        "```python\n",
        "inventaris = {\n",
        "    \"laptop\": 10,\n",
        "    \"mouse\": 25,\n",
        "    \"keyboard\": 15,\n",
        "    \"monitor\": 5,\n",
        "    \"printer\": 8\n",
        "}\n",
        "```\n",
        "\n",
        "#### **Tugas:**\n",
        "1. Tambahkan item baru dengan nama \"headset\" dan jumlah 12.\n",
        "2. Perbarui jumlah item \"laptop\" menjadi 12.\n",
        "3. Hapus item \"printer\" dari inventaris.\n",
        "4. Tampilkan dictionary terbaru.\n",
        "\n",
        "#### **Output yang Diharapkan:**\n",
        "\n",
        "```python\n",
        "Inventaris Gudang:\n",
        "{\n",
        "    \"laptop\": 12,\n",
        "    \"mouse\": 25,\n",
        "    \"keyboard\": 15,\n",
        "    \"monitor\": 5,\n",
        "    \"headset\": 12\n",
        "}\n",
        "```\n",
        "\n",
        "---"
      ]
    },
    {
      "cell_type": "code",
      "execution_count": null,
      "metadata": {
        "vscode": {
          "languageId": "plaintext"
        },
        "id": "vxbmGZ022ITm"
      },
      "outputs": [],
      "source": [
        "## JAWABAN NO 2"
      ]
    },
    {
      "cell_type": "markdown",
      "metadata": {
        "id": "d1Twud9q2ITp"
      },
      "source": [
        "## Soal 3\n",
        "**Operasi Himpunan dengan Set**\n",
        "Dua grup siswa mengikuti dua kegiatan ekstrakurikuler yang berbeda. Data siswa dalam bentuk set adalah sebagai berikut:  \n",
        "```python\n",
        "grup_olahraga = {\"Andi\", \"Budi\", \"Citra\", \"Dewi\", \"Eka\"}\n",
        "grup_musik = {\"Budi\", \"Citra\", \"Fajar\", \"Gina\", \"Hani\"}\n",
        "```\n",
        "\n",
        "#### **Tugas:**\n",
        "1. Tentukan siswa yang mengikuti kedua grup (irisan).\n",
        "2. Tentukan siswa yang hanya mengikuti salah satu grup saja (selisih simetris).\n",
        "3. Gabungkan seluruh siswa dari kedua grup.\n",
        "4. Tambahkan nama siswa baru, \"Ivan\", ke dalam grup olahraga dan \"Joko\" ke grup musik.\n",
        "5. Periksa apakah \"Dewi\" termasuk dalam grup musik.\n",
        "\n",
        "#### **Output yang Diharapkan:**\n",
        "- Hasil irisan.\n",
        "- Hasil selisih simetris.\n",
        "- Gabungan kedua grup.\n",
        "- Grup olahraga dan grup musik setelah penambahan.\n",
        "- Hasil pemeriksaan untuk \"Dewi\".\n",
        "\n",
        "---"
      ]
    },
    {
      "cell_type": "code",
      "execution_count": null,
      "metadata": {
        "vscode": {
          "languageId": "plaintext"
        },
        "id": "3Vjk9BLG2ITr"
      },
      "outputs": [],
      "source": [
        "## JAWABAN NO 3"
      ]
    }
  ],
  "metadata": {
    "language_info": {
      "name": "python"
    },
    "colab": {
      "provenance": [],
      "include_colab_link": true
    }
  },
  "nbformat": 4,
  "nbformat_minor": 0
}